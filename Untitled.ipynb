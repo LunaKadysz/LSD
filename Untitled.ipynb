{
 "cells": [
  {
   "cell_type": "code",
   "execution_count": 9,
   "id": "a278f3a6-cbd4-4847-aa15-63fb4dda1493",
   "metadata": {},
   "outputs": [
    {
     "data": {
      "application/vnd.jupyter.widget-view+json": {
       "model_id": "9a1ef53ec5e14ecf940ec39a18ab4367",
       "version_major": 2,
       "version_minor": 0
      },
      "text/plain": [
       "interactive(children=(FloatSlider(value=7.5, description='freq', max=10.0, min=1.0, step=0.5), Output()), _dom…"
      ]
     },
     "metadata": {},
     "output_type": "display_data"
    }
   ],
   "source": [
    "\n",
    "from ipywidgets import interact\n",
    "import ipywidgets as widgets\n",
    "import matplotlib.pyplot as plt\n",
    "import numpy as np\n",
    "%matplotlib qt\n",
    "# Create a simple scatter plot\n",
    "fig, ax = plt.subplots()\n",
    "x, y = np.random.rand(2, 200)\n",
    "scatter = ax.scatter(x, y)\n",
    "\n",
    "def plot_func(freq):\n",
    "    plt.figure()\n",
    "    x = np.linspace(0, 2*np.pi, 400)\n",
    "    y = np.sin(x * freq)\n",
    "    plt.plot(x, y)\n",
    "    plt.show()\n",
    "\n",
    "c = widgets.FloatSlider(value=7.5, min=1, max=10, step=0.5)\n",
    "k = widgets.FloatSlider(value=7.5, min=1, max=10, step=0.5)\n",
    "b = widgets.FloatSlider(value=7.5, min=1, max=10, step=0.5)\n",
    "#ui = widgets.HBox([a, b, c])\n",
    "\n",
    "\n",
    "out = widgets.interactive_output(f, {'c': c, 'k': k, 'b': b})\n",
    "interact(plot_func, freq=);"
   ]
  },
  {
   "cell_type": "code",
   "execution_count": 28,
   "id": "87e08aa3-12f5-41c4-8640-ef93c1160765",
   "metadata": {},
   "outputs": [
    {
     "data": {
      "text/plain": [
       "0.024893534183931972"
      ]
     },
     "execution_count": 28,
     "metadata": {},
     "output_type": "execute_result"
    }
   ],
   "source": [
    "(np.exp(-3))/2"
   ]
  },
  {
   "cell_type": "code",
   "execution_count": 5,
   "id": "550c4432-e32e-438a-b026-7fdb0ef6418e",
   "metadata": {},
   "outputs": [
    {
     "data": {
      "application/vnd.jupyter.widget-view+json": {
       "model_id": "117150645f094f0aae60bf305b133c97",
       "version_major": 2,
       "version_minor": 0
      },
      "text/plain": [
       "IntSlider(value=0)"
      ]
     },
     "metadata": {},
     "output_type": "display_data"
    }
   ],
   "source": [
    "import ipywidgets as widgets\n",
    "from IPython.display import display\n",
    "w = widgets.IntSlider()\n",
    "display(w)"
   ]
  },
  {
   "cell_type": "code",
   "execution_count": 30,
   "id": "f6edb98e-24c9-4b3a-b9f7-2b765c347d6d",
   "metadata": {},
   "outputs": [
    {
     "data": {
      "application/vnd.jupyter.widget-view+json": {
       "model_id": "ef0ce3b80946412f9f529b752cbd51b5",
       "version_major": 2,
       "version_minor": 0
      },
      "text/plain": [
       "IntSlider(value=5, max=10)"
      ]
     },
     "metadata": {},
     "output_type": "display_data"
    },
    {
     "data": {
      "application/vnd.jupyter.widget-view+json": {
       "model_id": "5b7c4a8cafec414a8dbffc30024e263d",
       "version_major": 2,
       "version_minor": 0
      },
      "text/plain": [
       "Output()"
      ]
     },
     "metadata": {},
     "output_type": "display_data"
    },
    {
     "data": {
      "application/vnd.jupyter.widget-view+json": {
       "model_id": "1d7328bbfaab4df89167c8ea57bbb152",
       "version_major": 2,
       "version_minor": 0
      },
      "text/plain": [
       "Output()"
      ]
     },
     "metadata": {},
     "output_type": "display_data"
    }
   ],
   "source": [
    "import ipywidgets as widgets\n",
    "\n",
    "from IPython.display import display\n",
    "\n",
    "\n",
    "\n",
    "def function1(x):\n",
    "\n",
    "    print(f\"Result from function 1: {x * 2}\")\n",
    "\n",
    "\n",
    "\n",
    "def function2(x):\n",
    "\n",
    "    print(f\"Result from function 2: {x ** 2}\")\n",
    "\n",
    "\n",
    "\n",
    "# Create a slider widget\n",
    "\n",
    "slider = widgets.IntSlider(min=0, max=10, value=5)\n",
    "\n",
    "\n",
    "\n",
    "# Link each function to the slider using interactive_output\n",
    "\n",
    "output1 = widgets.interactive_output(function1, {'x': slider})\n",
    "\n",
    "output2 = widgets.interactive_output(function2, {'x': slider})\n",
    "\n",
    "\n",
    "\n",
    "# Display the widget and outputs\n",
    "\n",
    "display(slider, output1, output2)"
   ]
  }
 ],
 "metadata": {
  "kernelspec": {
   "display_name": "Python [conda env:base] *",
   "language": "python",
   "name": "conda-base-py"
  },
  "language_info": {
   "codemirror_mode": {
    "name": "ipython",
    "version": 3
   },
   "file_extension": ".py",
   "mimetype": "text/x-python",
   "name": "python",
   "nbconvert_exporter": "python",
   "pygments_lexer": "ipython3",
   "version": "3.12.7"
  }
 },
 "nbformat": 4,
 "nbformat_minor": 5
}

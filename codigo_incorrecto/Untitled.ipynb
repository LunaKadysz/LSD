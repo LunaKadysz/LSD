{
 "cells": [
  {
   "cell_type": "code",
   "execution_count": 1,
   "id": "d811f7c7-1cc0-4f11-8d67-6afc3e2849c4",
   "metadata": {},
   "outputs": [],
   "source": [
    "import matplotlib.pyplot as plt\n",
    "import numpy as np\n",
    "import matplotlib\n",
    "from scipy import signal\n",
    "from scipy.io import wavfile\n",
    "from scipy.interpolate import UnivariateSpline\n",
    "\n",
    "matplotlib.rcParams['mathtext.fontset'] = 'cm'\n",
    "matplotlib.rcParams['font.family'] = 'STIXGeneral'\n"
   ]
  },
  {
   "cell_type": "code",
   "execution_count": 2,
   "id": "eab152e3-f08c-4bcf-9ba5-2c505c61af78",
   "metadata": {},
   "outputs": [
    {
     "ename": "FileNotFoundError",
     "evalue": "[Errno 2] No such file or directory: 'sonido-presion/sonido_segmento_1.wav'",
     "output_type": "error",
     "traceback": [
      "\u001b[1;31m---------------------------------------------------------------------------\u001b[0m",
      "\u001b[1;31mFileNotFoundError\u001b[0m                         Traceback (most recent call last)",
      "Cell \u001b[1;32mIn[2], line 1\u001b[0m\n\u001b[1;32m----> 1\u001b[0m fs, s_m \u001b[38;5;241m=\u001b[39m \u001b[43mwavfile\u001b[49m\u001b[38;5;241;43m.\u001b[39;49m\u001b[43mread\u001b[49m\u001b[43m(\u001b[49m\u001b[38;5;124;43m'\u001b[39;49m\u001b[38;5;124;43msonido-presion/sonido_segmento_1.wav\u001b[39;49m\u001b[38;5;124;43m'\u001b[39;49m\u001b[43m)\u001b[49m\n\u001b[0;32m      3\u001b[0m \u001b[38;5;28;01mdef\u001b[39;00m\u001b[38;5;250m \u001b[39m\u001b[38;5;21mget_spectrogram\u001b[39m(data, sampling_rate, window\u001b[38;5;241m=\u001b[39m\u001b[38;5;241m1024\u001b[39m, overlap\u001b[38;5;241m=\u001b[39m\u001b[38;5;241m1\u001b[39m\u001b[38;5;241m/\u001b[39m\u001b[38;5;241m1.1\u001b[39m,\n\u001b[0;32m      4\u001b[0m                     sigma\u001b[38;5;241m=\u001b[39m\u001b[38;5;241m102.4\u001b[39m, fmax\u001b[38;5;241m=\u001b[39m\u001b[38;5;241m8000\u001b[39m, drange\u001b[38;5;241m=\u001b[39m\u001b[38;5;241m6\u001b[39m):\n\u001b[0;32m      5\u001b[0m     fu, tu, Sxx \u001b[38;5;241m=\u001b[39m signal\u001b[38;5;241m.\u001b[39mspectrogram(data, sampling_rate, nperseg\u001b[38;5;241m=\u001b[39mwindow,\n\u001b[0;32m      6\u001b[0m                                      noverlap\u001b[38;5;241m=\u001b[39mwindow\u001b[38;5;241m*\u001b[39moverlap,\n\u001b[0;32m      7\u001b[0m                                      window\u001b[38;5;241m=\u001b[39msignal\u001b[38;5;241m.\u001b[39mget_window\n\u001b[0;32m      8\u001b[0m                                      ((\u001b[38;5;124m'\u001b[39m\u001b[38;5;124mgaussian\u001b[39m\u001b[38;5;124m'\u001b[39m, sigma), window),\n\u001b[0;32m      9\u001b[0m                                      scaling\u001b[38;5;241m=\u001b[39m\u001b[38;5;124m'\u001b[39m\u001b[38;5;124mspectrum\u001b[39m\u001b[38;5;124m'\u001b[39m)\n",
      "File \u001b[1;32m~\\anaconda3\\envs\\cleanenv\\lib\\site-packages\\scipy\\io\\wavfile.py:674\u001b[0m, in \u001b[0;36mread\u001b[1;34m(filename, mmap)\u001b[0m\n\u001b[0;32m    672\u001b[0m     mmap \u001b[38;5;241m=\u001b[39m \u001b[38;5;28;01mFalse\u001b[39;00m\n\u001b[0;32m    673\u001b[0m \u001b[38;5;28;01melse\u001b[39;00m:\n\u001b[1;32m--> 674\u001b[0m     fid \u001b[38;5;241m=\u001b[39m \u001b[38;5;28;43mopen\u001b[39;49m\u001b[43m(\u001b[49m\u001b[43mfilename\u001b[49m\u001b[43m,\u001b[49m\u001b[43m \u001b[49m\u001b[38;5;124;43m'\u001b[39;49m\u001b[38;5;124;43mrb\u001b[39;49m\u001b[38;5;124;43m'\u001b[39;49m\u001b[43m)\u001b[49m\n\u001b[0;32m    676\u001b[0m \u001b[38;5;28;01mtry\u001b[39;00m:\n\u001b[0;32m    677\u001b[0m     file_size, is_big_endian, is_rf64 \u001b[38;5;241m=\u001b[39m _read_riff_chunk(fid)\n",
      "\u001b[1;31mFileNotFoundError\u001b[0m: [Errno 2] No such file or directory: 'sonido-presion/sonido_segmento_1.wav'"
     ]
    }
   ],
   "source": [
    "fs, s_m = wavfile.read('sonido-presion/sonido_segmento_1.wav')\n",
    "\n",
    "def get_spectrogram(data, sampling_rate, window=1024, overlap=1/1.1,\n",
    "                    sigma=102.4, fmax=8000, drange=6):\n",
    "    fu, tu, Sxx = signal.spectrogram(data, sampling_rate, nperseg=window,\n",
    "                                     noverlap=window*overlap,\n",
    "                                     window=signal.get_window\n",
    "                                     (('gaussian', sigma), window),\n",
    "                                     scaling='spectrum')\n",
    "    Sxx = np.clip(Sxx, a_min=np.amax(Sxx)/10**drange, a_max=np.amax(Sxx))\n",
    "    return fu, tu, Sxx\n",
    "\n",
    "s_m *= 1 / np.max(s_m)\n",
    "\n",
    "fu, tu, Sxx = get_spectrogram(s_m, 44150)\n",
    "Sxx = np.clip(Sxx, a_min=np.amax(Sxx)/20000, a_max = np.amax(Sxx))\n",
    "\n",
    "fig, ax = plt.subplots(1, 1)\n",
    "ax.pcolormesh(tu, fu/1000, np.log(Sxx), rasterized=True, shading='auto', \n",
    "                  cmap='binary')"
   ]
  }
 ],
 "metadata": {
  "kernelspec": {
   "display_name": "Python 3 (ipykernel)",
   "language": "python",
   "name": "python3"
  },
  "language_info": {
   "codemirror_mode": {
    "name": "ipython",
    "version": 3
   },
   "file_extension": ".py",
   "mimetype": "text/x-python",
   "name": "python",
   "nbconvert_exporter": "python",
   "pygments_lexer": "ipython3",
   "version": "3.10.16"
  }
 },
 "nbformat": 4,
 "nbformat_minor": 5
}

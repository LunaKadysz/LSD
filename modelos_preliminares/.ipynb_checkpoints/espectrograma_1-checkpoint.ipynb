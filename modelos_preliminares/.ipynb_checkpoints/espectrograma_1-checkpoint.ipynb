{
 "cells": [
  {
   "cell_type": "code",
   "execution_count": 1,
   "id": "5a149772-d27c-4881-ad2b-fb8a05c68605",
   "metadata": {},
   "outputs": [],
   "source": [
    "import matplotlib.pyplot as plt\n",
    "import numpy as np\n",
    "import matplotlib\n",
    "from scipy import signal\n",
    "from scipy.io import wavfile\n",
    "from scipy.interpolate import UnivariateSpline\n",
    "\n",
    "matplotlib.rcParams['mathtext.fontset'] = 'cm'\n",
    "matplotlib.rcParams['font.family'] = 'STIXGeneral'\n"
   ]
  },
  {
   "cell_type": "code",
   "execution_count": 33,
   "id": "cada1d76-43cb-4e6b-abf2-99ba977652d3",
   "metadata": {},
   "outputs": [],
   "source": [
    "fs, s_m = wavfile.read('sonido-presion/sonido_segmento_1.wav')\n",
    "fs, s_s = wavfile.read('sonido-presion/simulacion_segmento_1.wav')\n",
    "\n",
    "def get_spectrogram(data, sampling_rate, window=1024, overlap=1/1.1,\n",
    "                    sigma=102.4, fmax=8000, drange=6):\n",
    "    fu, tu, Sxx = signal.spectrogram(data, sampling_rate, nperseg=window,\n",
    "                                     noverlap=window*overlap,\n",
    "                                     window=signal.get_window\n",
    "                                     (('gaussian', sigma), window),\n",
    "                                     scaling='spectrum')\n",
    "    Sxx = np.clip(Sxx, a_min=np.amax(Sxx)/10**drange, a_max=np.amax(Sxx))\n",
    "    return fu, tu, Sxx\n",
    "\n",
    "#sonido\n",
    "fu, tu, Sxx = get_spectrogram(s_m, 44150)\n",
    "Sxx = np.clip(Sxx, a_min=np.amax(Sxx)/20000000, a_max = np.amax(Sxx))\n",
    "\n",
    "#simulacion\n",
    "fu_s, tu_s, Sxx_s = get_spectrogram(s_s, 44150*20)\n",
    "Sxx_s = np.clip(Sxx_s, a_min=np.amax(Sxx_s)/20000000, a_max = np.amax(Sxx_s))\n",
    "\n"
   ]
  },
  {
   "cell_type": "code",
   "execution_count": 34,
   "id": "006f120b-7469-4ec2-98db-6cbe7936ed00",
   "metadata": {},
   "outputs": [
    {
     "data": {
      "text/plain": [
       "(0.0, 15.0)"
      ]
     },
     "execution_count": 34,
     "metadata": {},
     "output_type": "execute_result"
    }
   ],
   "source": [
    "#plot\n",
    "%matplotlib qt\n",
    "fig, [ax1, ax2] = plt.subplots(2, 1)\n",
    "ax1.pcolormesh(tu, fu/1000, np.log(Sxx), rasterized=True, shading='auto', \n",
    "                  cmap='binary')\n",
    "ax1.set_ylim([0, 15])\n",
    "ax2.pcolormesh(tu_s, fu_s/1000, np.log(Sxx_s), rasterized=True, shading='auto', \n",
    "                  cmap='binary')\n",
    "ax2.set_ylim([0, 15])\n"
   ]
  },
  {
   "cell_type": "code",
   "execution_count": 8,
   "id": "0c674dfd-df60-43a1-aa14-b38702b018db",
   "metadata": {},
   "outputs": [
    {
     "data": {
      "text/plain": [
       "<matplotlib.image.AxesImage at 0x2bb6b9ec880>"
      ]
     },
     "execution_count": 8,
     "metadata": {},
     "output_type": "execute_result"
    },
    {
     "data": {
      "image/png": "[encoded data removed]",
      "text/plain": [
       "<Figure size 640x480 with 1 Axes>"
      ]
     },
     "metadata": {},
     "output_type": "display_data"
    }
   ],
   "source": [
    "plt.imshow(Sxx, origin='lower')"
   ]
  }
 ],
 "metadata": {
  "kernelspec": {
   "display_name": "Python 3 (ipykernel)",
   "language": "python",
   "name": "python3"
  },
  "language_info": {
   "codemirror_mode": {
    "name": "ipython",
    "version": 3
   },
   "file_extension": ".py",
   "mimetype": "text/x-python",
   "name": "python",
   "nbconvert_exporter": "python",
   "pygments_lexer": "ipython3",
   "version": "3.10.16"
  }
 },
 "nbformat": 4,
 "nbformat_minor": 5
}

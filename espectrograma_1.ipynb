{
 "cells": [
  {
   "cell_type": "code",
   "execution_count": 51,
   "id": "5a149772-d27c-4881-ad2b-fb8a05c68605",
   "metadata": {},
   "outputs": [],
   "source": [
    "import matplotlib.pyplot as plt\n",
    "import numpy as np\n",
    "import matplotlib\n",
    "from scipy import signal\n",
    "from scipy.io import wavfile\n",
    "from scipy.interpolate import UnivariateSpline\n",
    "from ipywidgets import interact\n",
    "import ipywidgets as widgets\n",
    "\n",
    "matplotlib.rcParams['mathtext.fontset'] = 'cm'\n",
    "matplotlib.rcParams['font.family'] = 'STIXGeneral'\n"
   ]
  },
  {
   "cell_type": "code",
   "execution_count": 39,
   "id": "de033df5-e392-4912-99ff-247bb1c7f177",
   "metadata": {},
   "outputs": [],
   "source": [
    "fs, p = wavfile.read('sonido-presion/presion_segmento_1.wav')\n",
    "fs, b = wavfile.read('sonido-presion/beta_segmento_1.wav')\n",
    "fs, s_m = wavfile.read('sonido-presion/sonido_segmento_1.wav')\n",
    "fs, delta = wavfile.read('sonido-presion/delta_segmento_1.wav')"
   ]
  },
  {
   "cell_type": "code",
   "execution_count": 55,
   "id": "bebe192e-41e2-45f5-b355-28d63252958b",
   "metadata": {},
   "outputs": [],
   "source": [
    "\n",
    "#funcion del sistema de ecuaciones\n",
    "def f(X, t, params):\n",
    "    w, x = X\n",
    "    k, c, delta, beta = params\n",
    "\n",
    "    gamma = 1e4 #reescaleo\n",
    "    mu = 1e5\n",
    "\n",
    "    f_w = -gamma * k / mu * (x + delta / k)\n",
    "    f_x = gamma * mu * (w - c * x**3 / mu + beta * x / mu )\n",
    "    return np.array([f_w,f_x])\n",
    "\n",
    "#método Runge-Kutta 4\n",
    "def paso_RK(X, f, t, dt, params, orden=4):\n",
    "    k1 = f(X, t, params)\n",
    "    k2 = f(X + k1 * dt / 2, t, params)\n",
    "\n",
    "    if orden == 2:\n",
    "        X = X + (k1 + k2) / 2 * dt\n",
    "    elif orden == 4:\n",
    "        k3 = f(X + k2 * dt / 2, t, params)\n",
    "        k4 = f(X + k3 * dt, t, params)\n",
    "        X = X + (k1 + 2 * (k2 + k3) + k4) / 6 * dt\n",
    "    return X\n"
   ]
  },
  {
   "cell_type": "code",
   "execution_count": 35,
   "id": "cada1d76-43cb-4e6b-abf2-99ba977652d3",
   "metadata": {},
   "outputs": [],
   "source": [
    "fs, s_m = wavfile.read('sonido-presion/sonido_segmento_1.wav')\n",
    "fs, s_s = wavfile.read('sonido-presion/simulacion_segmento_1.wav')\n",
    "\n",
    "def get_spectrogram(data, sampling_rate, window=1024, overlap=1/1.1,\n",
    "                    sigma=102.4, fmax=8000, drange=6):\n",
    "    fu, tu, Sxx = signal.spectrogram(data, sampling_rate, nperseg=window,\n",
    "                                     noverlap=window*overlap,\n",
    "                                     window=signal.get_window\n",
    "                                     (('gaussian', sigma), window),\n",
    "                                     scaling='spectrum')\n",
    "    Sxx = np.clip(Sxx, a_min=np.amax(Sxx)/10**drange, a_max=np.amax(Sxx))\n",
    "    return fu, tu, Sxx\n",
    "\n",
    "#sonido\n",
    "fu, tu, Sxx = get_spectrogram(s_m, 44150)\n",
    "Sxx = np.clip(Sxx, a_min=np.amax(Sxx)/20000000, a_max = np.amax(Sxx))\n",
    "\n",
    "#simulacion\n",
    "fu_s, tu_s, Sxx_s = get_spectrogram(s_s[::20], 44150)\n",
    "Sxx_s = np.clip(Sxx_s, a_min=np.amax(Sxx_s)/20000000, a_max = np.amax(Sxx_s))\n",
    "\n"
   ]
  },
  {
   "cell_type": "code",
   "execution_count": 37,
   "id": "006f120b-7469-4ec2-98db-6cbe7936ed00",
   "metadata": {},
   "outputs": [
    {
     "data": {
      "text/plain": [
       "(0.0, 15.0)"
      ]
     },
     "execution_count": 37,
     "metadata": {},
     "output_type": "execute_result"
    }
   ],
   "source": [
    "#plot\n",
    "%matplotlib qt\n",
    "fig, [ax1, ax2] = plt.subplots(2, 1, sharex=True)\n",
    "ax1.pcolormesh(tu, fu/1000, np.log(Sxx), rasterized=True, shading='auto', \n",
    "                  cmap='binary')\n",
    "ax1.set_ylim([0, 15])\n",
    "ax2.pcolormesh(tu_s, fu_s/1000, np.log(Sxx_s), rasterized=True, shading='auto', \n",
    "                  cmap='binary')\n",
    "ax2.set_ylim([0, 15])\n"
   ]
  },
  {
   "cell_type": "code",
   "execution_count": null,
   "id": "2204cd4e-f7bb-474b-95e8-002e2b7e0be6",
   "metadata": {},
   "outputs": [],
   "source": []
  },
  {
   "cell_type": "code",
   "execution_count": 48,
   "id": "527a3e8d-77f7-49b5-b025-68d22131cea8",
   "metadata": {},
   "outputs": [
    {
     "name": "stdout",
     "output_type": "stream",
     "text": [
      "N = 38976\n"
     ]
    }
   ],
   "source": [
    "dt = 1/(44150 * 20)\n",
    "x0 = 0.01\n",
    "w0 = 0\n",
    "X0 = np.array([w0, x0])\n",
    "\n",
    "N = int(len(s_m))\n",
    "c = 1        \n",
    "print(f'N = {N}')\n",
    "ts = np.arange(0, N + 1) * dt\n",
    "Xs = np.zeros((N + 1, 2))\n",
    "Xs[0] = X0"
   ]
  },
  {
   "cell_type": "code",
   "execution_count": 67,
   "id": "9991a61f-6b59-4a68-be7f-925707c26aee",
   "metadata": {},
   "outputs": [],
   "source": [
    "import matplotlib.colors as mcolors\n",
    "colors = [(1,0,0,c) for c in np.linspace(0,1,100)]\n",
    "cmapred = mcolors.LinearSegmentedColormap.from_list('mycmap', colors, N=5)\n",
    "colors = [(0,0,1,c) for c in np.linspace(0,1,100)]\n",
    "cmapblue = mcolors.LinearSegmentedColormap.from_list('mycmap', colors, N=5)"
   ]
  },
  {
   "cell_type": "code",
   "execution_count": 58,
   "id": "bafd144c-c536-4556-98d3-da1d7b6ecbd6",
   "metadata": {},
   "outputs": [
    {
     "data": {
      "application/vnd.jupyter.widget-view+json": {
       "model_id": "66ea626ba684492dba21978c95101789",
       "version_major": 2,
       "version_minor": 0
      },
      "text/plain": [
       "IntSlider(value=1, description='k', max=11, min=1)"
      ]
     },
     "metadata": {},
     "output_type": "display_data"
    },
    {
     "data": {
      "application/vnd.jupyter.widget-view+json": {
       "model_id": "dee9f51c1d594eb9a662caf3f404c4b0",
       "version_major": 2,
       "version_minor": 0
      },
      "text/plain": [
       "FloatSlider(value=1.0, description='f0', max=2.0, min=0.1, step=0.0001)"
      ]
     },
     "metadata": {},
     "output_type": "display_data"
    },
    {
     "data": {
      "application/vnd.jupyter.widget-view+json": {
       "model_id": "021f0ebde6184ea39bae578065868364",
       "version_major": 2,
       "version_minor": 0
      },
      "text/plain": [
       "Output()"
      ]
     },
     "metadata": {},
     "output_type": "display_data"
    }
   ],
   "source": [
    "%matplotlib inline\n",
    "def plot1(k, f0):\n",
    "    Xs = np.zeros((N + 1, 2))\n",
    "    Xs[0] = X0\n",
    "    \n",
    "    # Integración\n",
    "    for j in range(N):\n",
    "        params = [k, c, delta[j] * f0, b]\n",
    "        Xs[j + 1] = paso_RK(Xs[j], system, ts[j], dt, params, 4)\n",
    "    \n",
    "        \n",
    "    fig, [ax1, ax2] = plt.subplots(2, 1, sharex=True)\n",
    "\n",
    "    #espectrograma\n",
    "    #sonido\n",
    "    fu, tu, Sxx = get_spectrogram(s_m, 44150)\n",
    "    Sxx = np.clip(Sxx, a_min=np.amax(Sxx)/20000000, a_max = np.amax(Sxx))\n",
    "    \n",
    "    #simulacion\n",
    "    fu_s, tu_s, Sxx_s = get_spectrogram(Xs[:,0][::20], 44150)\n",
    "    Sxx_s = np.clip(Sxx_s, a_min=np.amax(Sxx_s)/20000000, a_max = np.amax(Sxx_s))\n",
    "\n",
    "    \n",
    "    colors = ['green','red','black','blue']\n",
    "    #ploteo \n",
    "    ax1.plot(t,Xs[:,0][:-1]/ max(Xs[:,0][:-1]),alpha = .60, color=colors[3], label = r'simulación')\n",
    "    ax1.plot(t_m,s_m/max(s_m) ,alpha = .60, color='orange', label = r'sonido')\n",
    "    ax1.plot(t,b_/ max(b_),alpha = .60, color=colors[1], label = r'$\\beta$')\n",
    "    ax1.plot(t,delta_interp,alpha = .60, color=colors[2], label = r'$\\delta$')\n",
    "    ax1.legend(loc=0)\n",
    "    ax1.set_ylabel(r'$\\omega(t)$', fontsize=16)\n",
    "\n",
    "    #ploteo espectrograma\n",
    "    ax2.pcolormesh(tu_s, fu_s/1000, np.log(Sxx_s), rasterized=True, shading='auto', cmap=cmapblue, label = 'simulación')\n",
    "    ax2.pcolormesh(tu, fu/1000, np.log(Sxx), rasterized=True, shading='auto', cmap=cmapred, label = 'sonido')\n",
    "    ax2.legend(loc=0)\n",
    "    ax2.set_xlabel('$Tiempo [s]$', fontsize=14)\n",
    "    ax2.set_ylabel(r'espectrograma', fontsize=16)\n",
    "    plt.show()\n",
    "\n",
    "#params\n",
    "k = widgets.IntSlider(value=1 , min= 1 , max= 11, step= 1, description='k')\n",
    "f0 = widgets.FloatSlider(value= 1 , min= 0.1 , max= 2, step= 1e-4, description='f0')\n",
    "\n",
    "# linkeo el slider con los graficos\n",
    "output1 = widgets.interactive_output(plot1, {'k': k, 'f0': f0})\n",
    "\n",
    "# muestro los outputs#\n",
    "display(k, f0, output1)\n",
    "#probar d_min 0.56, d_max 0.6"
   ]
  }
 ],
 "metadata": {
  "kernelspec": {
   "display_name": "Python 3 (ipykernel)",
   "language": "python",
   "name": "python3"
  },
  "language_info": {
   "codemirror_mode": {
    "name": "ipython",
    "version": 3
   },
   "file_extension": ".py",
   "mimetype": "text/x-python",
   "name": "python",
   "nbconvert_exporter": "python",
   "pygments_lexer": "ipython3",
   "version": "3.10.16"
  }
 },
 "nbformat": 4,
 "nbformat_minor": 5
}

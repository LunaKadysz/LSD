{
 "cells": [
  {
   "cell_type": "markdown",
   "id": "324422b2-f90c-469c-b74f-359f38ebca51",
   "metadata": {},
   "source": [
    "### Abrir archivos"
   ]
  },
  {
   "cell_type": "code",
   "execution_count": null,
   "id": "91b9bcac-3ff8-4f55-a51b-b362dea8fb1e",
   "metadata": {},
   "outputs": [],
   "source": [
    "path = 'sonido-presion/'\n",
    "files = {i: {'presion': [], 'sonido': []} for i in range(1,4)}\n",
    "\n",
    "for i,file in enumerate(os.listdir(path)):\n",
    "  file_name = str(os.path.splitext(file)[0])\n",
    "  segmento = int(file_name.split('_')[2])\n",
    "  param = file_name.split('_')[0]\n",
    "\n",
    "  sample_rate, data = wavfile.read(os.path.join(path, file))\n",
    "  print(f'La frecuencia de muestreo del segmento {segmento} de {file_name.split(\"_\")[0]} es {sample_rate}. N = {len(data)}')\n",
    "  files[segmento][param] = data.astype(np.int32)"
   ]
  },
  {
   "cell_type": "markdown",
   "id": "93d806b1-b07d-4898-a7cd-5cf860d4bff7",
   "metadata": {},
   "source": [
    "### Inteprolar"
   ]
  },
  {
   "cell_type": "code",
   "execution_count": null,
   "id": "fddc312a-ec17-41f6-8935-ab1cb8d74b20",
   "metadata": {},
   "outputs": [],
   "source": [
    "from scipy.interpolate import interp1d\n",
    "\n",
    "p = files[1]['presion']\n",
    "s = files[1]['sonido']\n",
    "\n",
    "interp_func = interp1d(t_m, p)\n",
    "\n",
    "b_interpolado = interp_func(np.linspace(0, t_m[-1],len(t) ))"
   ]
  },
  {
   "cell_type": "code",
   "execution_count": null,
   "id": "b0500469-ec8d-4a74-b562-3b575bcfe2f5",
   "metadata": {},
   "outputs": [],
   "source": []
  },
  {
   "cell_type": "code",
   "execution_count": null,
   "id": "f0fcd604-8771-48c6-af09-9b7eb61b1be1",
   "metadata": {},
   "outputs": [],
   "source": []
  }
 ],
 "metadata": {
  "kernelspec": {
   "display_name": "Python 3 (ipykernel)",
   "language": "python",
   "name": "python3"
  },
  "language_info": {
   "codemirror_mode": {
    "name": "ipython",
    "version": 3
   },
   "file_extension": ".py",
   "mimetype": "text/x-python",
   "name": "python",
   "nbconvert_exporter": "python",
   "pygments_lexer": "ipython3",
   "version": "3.12.5"
  }
 },
 "nbformat": 4,
 "nbformat_minor": 5
}

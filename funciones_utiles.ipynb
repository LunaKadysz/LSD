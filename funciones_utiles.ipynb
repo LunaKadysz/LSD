{
 "cells": [
  {
   "cell_type": "code",
   "execution_count": null,
   "id": "850fdfe0-83a8-4f59-b59d-54f3b7767e9f",
   "metadata": {},
   "outputs": [],
   "source": [
    "# LIBRERIA PARA SEPARAR AUDIO\n",
    "# https://pydub.com/"
   ]
  },
  {
   "cell_type": "markdown",
   "id": "324422b2-f90c-469c-b74f-359f38ebca51",
   "metadata": {},
   "source": [
    "### Abrir archivos"
   ]
  },
  {
   "cell_type": "code",
   "execution_count": null,
   "id": "91b9bcac-3ff8-4f55-a51b-b362dea8fb1e",
   "metadata": {},
   "outputs": [],
   "source": [
    "path = 'sonido-presion/'\n",
    "files = {i: {'presion': [], 'sonido': []} for i in range(1,4)}\n",
    "\n",
    "for i,file in enumerate(os.listdir(path)):\n",
    "  file_name = str(os.path.splitext(file)[0])\n",
    "  segmento = int(file_name.split('_')[2])\n",
    "  param = file_name.split('_')[0]\n",
    "\n",
    "  sample_rate, data = wavfile.read(os.path.join(path, file))\n",
    "  print(f'La frecuencia de muestreo del segmento {segmento} de {file_name.split(\"_\")[0]} es {sample_rate}. N = {len(data)}')\n",
    "  files[segmento][param] = data.astype(np.int32)"
   ]
  },
  {
   "cell_type": "markdown",
   "id": "93d806b1-b07d-4898-a7cd-5cf860d4bff7",
   "metadata": {},
   "source": [
    "### Inteprolar"
   ]
  },
  {
   "cell_type": "code",
   "execution_count": null,
   "id": "fddc312a-ec17-41f6-8935-ab1cb8d74b20",
   "metadata": {},
   "outputs": [],
   "source": [
    "from scipy.interpolate import interp1d\n",
    "\n",
    "p = files[1]['presion']\n",
    "s = files[1]['sonido']\n",
    "\n",
    "interp_func = interp1d(t_m, p)\n",
    "\n",
    "b_interpolado = interp_func(np.linspace(0, t_m[-1],len(t) ))"
   ]
  },
  {
   "cell_type": "markdown",
   "id": "45f7f9cb-a733-438d-a696-83b75de4d634",
   "metadata": {},
   "source": [
    "### Cotnruye un $\\delta$ con dos segmentos lo más separados posibles"
   ]
  },
  {
   "cell_type": "code",
   "execution_count": null,
   "id": "f0fcd604-8771-48c6-af09-9b7eb61b1be1",
   "metadata": {},
   "outputs": [],
   "source": [
    "# ACA FUERZO A QUE LOS DOS SEGMENTOS ESTEN UNO AL PRINCIPIO Y OTRO AL FINAL\n",
    "\n",
    "def construir_delta2(xs, umbral, min_largo=20, margen=0.25):\n",
    "    \"\"\"\n",
    "    Lo que hace el algoritmo es:\n",
    "    1. Buscar todos los segmentos que superan el umbral.\n",
    "\n",
    "    2. Filtrar para que uno esté cerca del principio y otro cerca del final de xs.\n",
    "\n",
    "    3. Elegir los más largos dentro de esas dos regiones.\n",
    "\n",
    "    \"\"\"\n",
    "    preliminar = (xs > umbral).astype(int)\n",
    "    cambios = np.diff(preliminar)\n",
    "    inicios = np.where(cambios == 1)[0] + 1\n",
    "    finales = np.where(cambios == -1)[0] + 1\n",
    "\n",
    "    if preliminar[0] == 1:\n",
    "        inicios = np.insert(inicios, 0, 0)\n",
    "    if preliminar[-1] == 1:\n",
    "        finales = np.append(finales, len(xs))\n",
    "\n",
    "    segmentos = [(ini, fin, fin - ini) for ini, fin in zip(inicios, finales) if (fin - ini) >= min_largo]\n",
    "    if len(segmentos) < 2:\n",
    "        return np.zeros_like(xs, dtype=int)\n",
    "\n",
    "    N = len(xs)\n",
    "    umbral_inicio = int(N * margen)\n",
    "    umbral_final = int(N * (1 - margen))\n",
    "\n",
    "    # Segmento cerca del principio\n",
    "    candidatos_inicio = [s for s in segmentos if s[0] <= umbral_inicio]\n",
    "    # Segmento cerca del final\n",
    "    candidatos_final = [s for s in segmentos if s[1] >= umbral_final]\n",
    "\n",
    "    if not candidatos_inicio or not candidatos_final:\n",
    "        return np.zeros_like(xs, dtype=int)\n",
    "\n",
    "    # Elegimos los más largos de cada grupo\n",
    "    seg_inicio = max(candidatos_inicio, key=lambda s: s[2])\n",
    "    seg_final = max(candidatos_final, key=lambda s: s[2])\n",
    "\n",
    "    delta2 = np.zeros_like(xs, dtype=int)\n",
    "    delta2[seg_inicio[0]:seg_inicio[1]] = 1\n",
    "    delta2[seg_final[0]:seg_final[1]] = 1\n",
    "\n",
    "    return delta2\n",
    "\n",
    "def encontrar_mejor_umbral(xs, delta1, umbrales, min_largo=20):\n",
    "    mejor_umbral = None\n",
    "    mejor_delta2 = None\n",
    "    mejor_score = -np.inf\n",
    "\n",
    "    for u in umbrales:\n",
    "        delta2 = construir_delta2(xs, u, min_largo)\n",
    "\n",
    "        # Métrica: favorecer solapamiento, penalizar falsos positivos\n",
    "        solap = np.sum(delta1 * delta2)\n",
    "        penal = np.sum(delta2 * (1 - delta1)) * .8\n",
    "        score = solap - penal  # puedes ajustar pesos si querés\n",
    "\n",
    "        if score > mejor_score:\n",
    "            mejor_score = score\n",
    "            mejor_delta2 = delta2\n",
    "            mejor_umbral = u\n",
    "\n",
    "    return mejor_umbral, mejor_delta2, mejor_score"
   ]
  },
  {
   "cell_type": "code",
   "execution_count": null,
   "id": "55b89cec-3cc9-44cf-bc91-da54d154d2fd",
   "metadata": {},
   "outputs": [],
   "source": []
  },
  {
   "cell_type": "code",
   "execution_count": null,
   "id": "ef9238fa-1beb-4abe-8e0c-a86965cb9be1",
   "metadata": {},
   "outputs": [],
   "source": []
  }
 ],
 "metadata": {
  "kernelspec": {
   "display_name": "Python 3 (ipykernel)",
   "language": "python",
   "name": "python3"
  },
  "language_info": {
   "codemirror_mode": {
    "name": "ipython",
    "version": 3
   },
   "file_extension": ".py",
   "mimetype": "text/x-python",
   "name": "python",
   "nbconvert_exporter": "python",
   "pygments_lexer": "ipython3",
   "version": "3.10.16"
  }
 },
 "nbformat": 4,
 "nbformat_minor": 5
}
